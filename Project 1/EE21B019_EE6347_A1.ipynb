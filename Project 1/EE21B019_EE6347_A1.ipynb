{
  "nbformat": 4,
  "nbformat_minor": 0,
  "metadata": {
    "kernelspec": {
      "display_name": "Python 3",
      "language": "python",
      "name": "python3"
    },
    "language_info": {
      "codemirror_mode": {
        "name": "ipython",
        "version": 3
      },
      "file_extension": ".py",
      "mimetype": "text/x-python",
      "name": "python",
      "nbconvert_exporter": "python",
      "pygments_lexer": "ipython3",
      "version": "3.7.6"
    },
    "colab": {
      "provenance": []
    }
  },
  "cells": [
    {
      "cell_type": "markdown",
      "source": [
        "<center>\n",
        "\n",
        "**EE6347 : Devices and Technologies for AI and Neuromorphic Computing**\n",
        "\n",
        "**Assignment 1 : Single Neuron Logistic Regression**\n",
        "\n",
        "Name : ANIRUDH B S ; Roll No. : EE21B019\n",
        "</center>"
      ],
      "metadata": {
        "id": "kJJqpUy81vxW"
      }
    },
    {
      "cell_type": "markdown",
      "source": [
        "**Question 1**"
      ],
      "metadata": {
        "id": "i6dqwCCB1fek"
      }
    },
    {
      "cell_type": "markdown",
      "source": [
        "You have a training dataset with 60,000 images. How many samples per iteration (of gradient descent) you can have if you employ “mini-batch” gradient descent?\n",
        "\n",
        "Answer : (d) 1 < samples < 60,000"
      ],
      "metadata": {
        "id": "OanYwB1M1EeM"
      }
    },
    {
      "cell_type": "markdown",
      "metadata": {
        "id": "7kSnG9Vr427J"
      },
      "source": [
        "## **Neural Network Implementation** ###\n",
        "\n",
        "## 1.1 Importing the library and dataset"
      ]
    },
    {
      "cell_type": "code",
      "metadata": {
        "id": "XYtEdnGA427K",
        "colab": {
          "base_uri": "https://localhost:8080/"
        },
        "outputId": "68db8edc-ec55-4027-acd7-5df60e407ecc"
      },
      "source": [
        "from google.colab import drive\n",
        "drive.mount('/content/gdrive')"
      ],
      "execution_count": null,
      "outputs": [
        {
          "output_type": "stream",
          "name": "stdout",
          "text": [
            "Mounted at /content/gdrive\n"
          ]
        }
      ]
    },
    {
      "cell_type": "markdown",
      "metadata": {
        "id": "7CDscAn7427N"
      },
      "source": [
        "Problem Statement: You are given a dataset (\"data.h5\") containing:\n",
        "\n",
        "- a training set of m_train images labeled as cat (y=1) or non-cat (y=0)\n",
        "- a test set of m_test images labeled as cat or non-cat\n",
        "- each image is of shape (num_px, num_px, 3) where 3 is for the 3 channels (RGB). Thus, each image is square (height = num_px) and (width = num_px).\n",
        "You will build a simple image-recognition algorithm that can correctly classify pictures as cat or non-cat\n",
        "\n",
        "Let's get more familiar with the dataset. Load the data by running the following code"
      ]
    },
    {
      "cell_type": "code",
      "metadata": {
        "id": "wL1TAlgR427N"
      },
      "source": [
        "import sys\n",
        "path='/content/gdrive/MyDrive/EE6347_Assignment1/'\n",
        "sys.path.append(path)"
      ],
      "execution_count": null,
      "outputs": []
    },
    {
      "cell_type": "code",
      "source": [
        "import numpy as np\n",
        "import matplotlib.pyplot as plt\n",
        "import h5py\n",
        "import scipy\n",
        "import copy\n",
        "from PIL import Image\n",
        "from scipy import ndimage\n"
      ],
      "metadata": {
        "id": "hxmT9-tHzSC-"
      },
      "execution_count": null,
      "outputs": []
    },
    {
      "cell_type": "code",
      "source": [
        "def load_data():\n",
        "\n",
        "    with h5py.File('/content/gdrive/MyDrive/EE6347_Assignment1/train_catvnoncat.h5', \"r\") as train_dataset:\n",
        "        train_set_x_orig = np.array(train_dataset[\"train_set_x\"][:])\n",
        "        train_set_y_orig = np.array(train_dataset[\"train_set_y\"][:])\n",
        "\n",
        "    with h5py.File('/content/gdrive/MyDrive/EE6347_Assignment1/test_catvnoncat.h5', \"r\") as test_dataset:\n",
        "        test_set_x_orig = np.array(test_dataset[\"test_set_x\"][:])\n",
        "        test_set_y_orig = np.array(test_dataset[\"test_set_y\"][:])\n",
        "        classes = np.array(test_dataset[\"list_classes\"][:])\n",
        "\n",
        "    train_set_y_orig = train_set_y_orig.reshape((1, train_set_y_orig.shape[0]))\n",
        "    test_set_y_orig = test_set_y_orig.reshape((1, test_set_y_orig.shape[0]))\n",
        "\n",
        "    return train_set_x_orig, train_set_y_orig, test_set_x_orig, test_set_y_orig, classes\n",
        "\n",
        "train_set_x_orig, train_set_y, test_set_x_orig, test_set_y, classes= load_data()\n",
        "\n"
      ],
      "metadata": {
        "id": "1mEyNQgTEjkX"
      },
      "execution_count": null,
      "outputs": []
    },
    {
      "cell_type": "markdown",
      "metadata": {
        "id": "AJbLCx1b427P"
      },
      "source": [
        "Each line of your train_set_x_orig and test_set_x_orig is an array representing an image. You can visualize an example by running the following code.\n"
      ]
    },
    {
      "cell_type": "code",
      "metadata": {
        "id": "rB5SsVS9427Q",
        "colab": {
          "base_uri": "https://localhost:8080/",
          "height": 449
        },
        "outputId": "9e2daf06-9577-4bc6-fa32-a5ad35566d3c"
      },
      "source": [
        "index = 30\n",
        "plt.imshow(train_set_x_orig[index])\n",
        "print (f\"y = {train_set_y[0,index]}\")"
      ],
      "execution_count": null,
      "outputs": [
        {
          "output_type": "stream",
          "name": "stdout",
          "text": [
            "y = 0\n"
          ]
        },
        {
          "output_type": "display_data",
          "data": {
            "text/plain": [
              "<Figure size 640x480 with 1 Axes>"
            ],
            "image/png": "[encoded data removed]"
          },
          "metadata": {}
        }
      ]
    },
    {
      "cell_type": "markdown",
      "metadata": {
        "id": "mX8Z1ls6427T"
      },
      "source": [
        "**Exercise: Find the values for:**\n",
        "\n",
        "- m_train (number of training examples)\n",
        "- m_test (number of test examples)\n",
        "- num_px (= height = width of a training image)\n",
        "\n",
        "Remember that train_set_x_orig is a numpy-array of shape (m_train, num_px, num_px, 3). For instance, you can access m_train by writing train_set_x_orig.shape[0]."
      ]
    },
    {
      "cell_type": "code",
      "metadata": {
        "id": "AMHOhBDs427T",
        "colab": {
          "base_uri": "https://localhost:8080/"
        },
        "outputId": "a2d3f47a-23ed-432a-847a-a85c22111eef"
      },
      "source": [
        "m_train = train_set_x_orig.shape[0]\n",
        "m_test = test_set_x_orig.shape[0]\n",
        "num_px = train_set_x_orig.shape[1]\n",
        "\n",
        "print(f\"Number of training examples are {m_train}\")\n",
        "print(f\"Number of test examples are {m_test}\")\n",
        "print(f\"Number of pixels are {num_px}\")"
      ],
      "execution_count": null,
      "outputs": [
        {
          "output_type": "stream",
          "name": "stdout",
          "text": [
            "Number of training examples are 209\n",
            "Number of test examples are 50\n",
            "Number of pixels are 64\n"
          ]
        }
      ]
    },
    {
      "cell_type": "markdown",
      "metadata": {
        "id": "oB3Zcvte427V"
      },
      "source": [
        "\n",
        "\n",
        "**Exercise:**\n",
        "Reshape the training and test data sets so that images of size (num_px, num_px, 3) are flattened."
      ]
    },
    {
      "cell_type": "code",
      "metadata": {
        "id": "BFIRRWNB427W"
      },
      "source": [
        "train_set_x_flatten = train_set_x_orig.reshape(train_set_x_orig.shape[0], -1).T\n",
        "test_set_x_flatten = test_set_x_orig.reshape(test_set_x_orig.shape[0], -1).T"
      ],
      "execution_count": null,
      "outputs": []
    },
    {
      "cell_type": "markdown",
      "metadata": {
        "id": "dXhvv1Og427Y"
      },
      "source": [
        "To represent color images, the red, green and blue channels (RGB) must be specified for each pixel, and so the pixel value is actually a vector of three numbers ranging from 0 to 255.\n",
        "\n",
        "\n",
        "Let's normalize our dataset"
      ]
    },
    {
      "cell_type": "code",
      "metadata": {
        "id": "sOQkMYyv427Y"
      },
      "source": [
        "train_set_x = train_set_x_flatten/255\n",
        "test_set_x = test_set_x_flatten/255"
      ],
      "execution_count": null,
      "outputs": []
    },
    {
      "cell_type": "markdown",
      "metadata": {
        "id": "sGWcNK_w427b"
      },
      "source": [
        "## PART_B ######\n",
        "\n",
        "It's time to design a simple algorithm to distinguish cat images from non-cat images.\n",
        "\n",
        "You will build a simple neural network with one neuron.\n",
        "\n",
        "\n",
        "Key steps: In this exercise, you will carry out the following steps:\n",
        "\n",
        "- Initialize the parameters of the model\n",
        "- Learn the parameters for the model by minimizing the cost  \n",
        "- Use the learned parameters to make predictions (on the test set)\n",
        "- Analyse the results and conclude"
      ]
    },
    {
      "cell_type": "markdown",
      "metadata": {
        "id": "X6TNb1PA427b"
      },
      "source": [
        "## Building the parts of our algorithm\n",
        "\n",
        "The main steps for building a Neural Network are:\n",
        "\n",
        "Define the model structure (such as number of input features)\n",
        "\n",
        "Initialize the model's parameters\n",
        "\n",
        "Loop:\n",
        "\n",
        "Calculate current loss (forward propagation)\n",
        "\n",
        "Calculate current gradient (backward propagation)\n",
        "\n",
        "Update the parameters (gradient descent)\n"
      ]
    },
    {
      "cell_type": "markdown",
      "metadata": {
        "id": "BRv1EPF2427c"
      },
      "source": [
        "## HELPER FUNCTIONS ####\n",
        "\n",
        "### B.1  Exercise: Implement Sigmoid Function: sigmoid()\n",
        "\n",
        "𝑎= 𝜎(𝑧)=  1/(1 + 𝑒xp(−𝑧) )"
      ]
    },
    {
      "cell_type": "code",
      "metadata": {
        "id": "9wDKtKWR427c"
      },
      "source": [
        "def sigmoid(z):\n",
        "  return 1/(1+np.exp(-z))\n"
      ],
      "execution_count": null,
      "outputs": []
    },
    {
      "cell_type": "code",
      "metadata": {
        "id": "u2o_EXdP427e",
        "colab": {
          "base_uri": "https://localhost:8080/"
        },
        "outputId": "db9f3d12-2f77-4e9d-8373-e8575ce98b8b"
      },
      "source": [
        "inp = [3, -25, -0.7, 25]\n",
        "oup = sigmoid(np.array(inp))\n",
        "print(oup)"
      ],
      "execution_count": null,
      "outputs": [
        {
          "output_type": "stream",
          "name": "stdout",
          "text": [
            "[9.52574127e-01 1.38879439e-11 3.31812228e-01 1.00000000e+00]\n"
          ]
        }
      ]
    },
    {
      "cell_type": "markdown",
      "metadata": {
        "id": "_9RyDauM427h"
      },
      "source": [
        "### B.2 Initializing Parameter\n",
        "\n",
        "i.e. w and b\n",
        "\n",
        "for network with single neuron we will initialize with random weights and zero bias."
      ]
    },
    {
      "cell_type": "code",
      "metadata": {
        "id": "mfcSCD15427h"
      },
      "source": [
        "def initialize_with_zeros(dim):\n",
        "  w = np.random.rand(dim, 1)\n",
        "  b = np.random.rand()\n",
        "\n",
        "  return w, b"
      ],
      "execution_count": null,
      "outputs": []
    },
    {
      "cell_type": "code",
      "metadata": {
        "id": "uG7ObC9j427j",
        "colab": {
          "base_uri": "https://localhost:8080/"
        },
        "outputId": "0ffe77ff-dd76-49f9-b49b-9b4c20618104"
      },
      "source": [
        "initialize_with_zeros(4)"
      ],
      "execution_count": null,
      "outputs": [
        {
          "output_type": "execute_result",
          "data": {
            "text/plain": [
              "(array([[0.57684617],\n",
              "        [0.54527914],\n",
              "        [0.16270866],\n",
              "        [0.91503631]]),\n",
              " 0.7551941013598177)"
            ]
          },
          "metadata": {},
          "execution_count": 19
        }
      ]
    },
    {
      "cell_type": "markdown",
      "metadata": {
        "id": "SYXU3YD1427m"
      },
      "source": [
        "### B.3 Forward and Backward Propogation\n",
        "you can do the \"forward\" and \"backward\" propagation steps for learning the parameters.\n",
        "\n",
        "**Exercise:** Implement a function `propagation()` that computes the cost function and its gradient.\n",
        "\n",
        "**Hints**:\n",
        "\n",
        "Forward Propagation:\n",
        "- You get X of dimension (n, m) n=no of input feture, m=no of training example\n",
        "- You compute $A = \\sigma(w^T X + b) = (a^{(1)}, a^{(2)}, ..., a^{(m-1)}, a^{(m)})$\n",
        "- You calculate the cost function: $J = -\\frac{1}{m}\\sum_{i=1}^{m}y^{(i)}\\log(a^{(i)})+(1-y^{(i)})\\log(1-a^{(i)})$\n",
        "\n",
        "Here are the two formulas you will be using:\n",
        "\n",
        "$$ \\frac{\\partial J}{\\partial w} = \\frac{1}{m}X(A-Y)^T\\tag{7}$$\n",
        "$$ \\frac{\\partial J}{\\partial b} = \\frac{1}{m} \\sum_{i=1}^m (a^{(i)}-y^{(i)})\\tag{8}$$"
      ]
    },
    {
      "cell_type": "code",
      "metadata": {
        "id": "E_xOtMwI427m"
      },
      "source": [
        "def propagation(w, b, X, Y):\n",
        "    m = X.shape[1]\n",
        "    A = sigmoid(np.dot(w.T, X) + b)\n",
        "    cost = -1/m * (np.sum(Y* np.log(A) + (1-Y)*np.log(1-A)))\n",
        "\n",
        "    dw = 1/m * (np.dot(X, (A-Y).T))\n",
        "    db = 1/m * (np.sum(A-Y))\n",
        "\n",
        "    cost = np.squeeze(np.array(cost))\n",
        "    grads = {'dw' : dw, 'db' : db}\n",
        "\n",
        "    return grads, cost"
      ],
      "execution_count": null,
      "outputs": []
    },
    {
      "cell_type": "markdown",
      "metadata": {
        "id": "34jBrUey427q"
      },
      "source": [
        "### B.4 - Optimization\n",
        "- You have initialized your parameters.\n",
        "- You are also able to compute a cost function and its gradient.\n",
        "- Now, you want to update the parameters using gradient descent.\n",
        "\n",
        "**Exercise:** Write down the optimization function. The goal is to learn $w$ and $b$ by minimizing the cost function $J$. For a parameter $\\theta$, the update rule is $ \\theta = \\theta - \\alpha \\text{ } d\\theta$, where $\\alpha$ is the learning rate."
      ]
    },
    {
      "cell_type": "code",
      "metadata": {
        "id": "g_UKBShK427r"
      },
      "source": [
        "def optimization(w, b, X, Y, num_itertions = 1000, learning_rate = 0.001, print_cost = False):\n",
        "    w = copy.deepcopy(w)\n",
        "    b = copy.deepcopy(b)\n",
        "\n",
        "    costs = []\n",
        "\n",
        "    for i in range(num_itertions):\n",
        "      grads, cost = propagation(w, b, X, Y)\n",
        "      dw = grads['dw']\n",
        "      db = grads['db']\n",
        "      w = w - learning_rate * dw\n",
        "      b = b - learning_rate * db\n",
        "\n",
        "      if i%100==0:\n",
        "        costs.append(cost)\n",
        "\n",
        "        if print_cost:\n",
        "          print(f\"Cost after iteration {i} is {cost}\")\n",
        "\n",
        "      params = {'w' : w, 'b' : b}\n",
        "      grads = {'dw' : dw, 'db' : db}\n",
        "\n",
        "    return params, grads, costs"
      ],
      "execution_count": null,
      "outputs": []
    },
    {
      "cell_type": "markdown",
      "metadata": {
        "id": "oWqeYMI5427v"
      },
      "source": [
        "**Exercise:** The previous function will output the learned w and b. We are able to use w and b to predict the labels for a dataset X. Implement the `predict()` function. There are two steps to computing predictions:\n",
        "\n",
        "1. Calculate $\\hat{Y} = A = \\sigma(w^T X + b)$\n",
        "\n",
        "2. Convert the entries of a into 0 (if activation <= 0.5) or 1 (if activation > 0.5), stores the predictions in a vector `Y_prediction`."
      ]
    },
    {
      "cell_type": "code",
      "metadata": {
        "id": "cxixdOxp427v"
      },
      "source": [
        "def predict(w, b, X):\n",
        "    m = X.shape[1]\n",
        "    Y_prediction = np.zeros(shape = (1, m), dtype = np.float128)\n",
        "    w = w.reshape(X.shape[0], 1)\n",
        "    A = sigmoid(np.dot(w.T, X) + b)\n",
        "    for i in range(m):\n",
        "      if A[0, i] > 0.5:\n",
        "        Y_prediction[0,i] = 1\n",
        "      else :\n",
        "        Y_prediction[0,i] = 0\n",
        "\n",
        "    return Y_prediction"
      ],
      "execution_count": null,
      "outputs": []
    },
    {
      "cell_type": "code",
      "metadata": {
        "id": "I1hwh288427x",
        "outputId": "906e6752-adcc-4afa-d6c0-6bdd559f735b",
        "colab": {
          "base_uri": "https://localhost:8080/"
        }
      },
      "source": [
        "w = np.array([[0.1124579],[0.23106775]])\n",
        "b = -0.3\n",
        "X = np.array([[1.,-1.1,-3.2],[1.2,2.,0.1]])\n",
        "print (\"predictions = \" + str(predict(w, b, X)))"
      ],
      "execution_count": null,
      "outputs": [
        {
          "output_type": "stream",
          "name": "stdout",
          "text": [
            "predictions = [[1. 1. 0.]]\n"
          ]
        }
      ]
    },
    {
      "cell_type": "markdown",
      "metadata": {
        "id": "BZ6tET6g427z"
      },
      "source": [
        "## C - Merge all functions into a model ##\n",
        "\n",
        "You will now see how the overall model is structured by putting together all the building blocks (functions implemented in the previous parts) together, in the right order.\n",
        "\n",
        "**Exercise:** Implement the model function. Use the following notation:\n",
        "    - Y_prediction_test for your predictions on the test set\n",
        "    - Y_prediction_train for your predictions on the train set\n",
        "    - w, costs, grads for the outputs of optimization()"
      ]
    },
    {
      "cell_type": "code",
      "metadata": {
        "id": "8cz1kclg4270"
      },
      "source": [
        "def model(X_train, Y_train, X_test, Y_test, num_iterations = 200000, learning_rate = 0.5, print_cost = False):\n",
        "\n",
        "    w, b = initialize_with_zeros(X_train.shape[0])\n",
        "    parameters, grads, costs = optimization(w, b, X_train, Y_train, num_iterations, learning_rate, print_cost = False)\n",
        "    w = parameters[\"w\"]\n",
        "    b = parameters[\"b\"]\n",
        "    Y_prediction_test = predict(w, b, X_test)\n",
        "    Y_prediction_train = predict(w, b, X_train)\n",
        "\n",
        "    # Print train/test Errors\n",
        "    print(\"train accuracy: {} %\".format(100 - np.mean(np.abs(Y_prediction_train - Y_train)) * 100))\n",
        "    print(\"test accuracy: {} %\".format(100 - np.mean(np.abs(Y_prediction_test - Y_test)) * 100))\n",
        "\n",
        "\n",
        "    d = {\"costs\": costs,\n",
        "         \"Y_prediction_test\": Y_prediction_test,\n",
        "         \"Y_prediction_train\" : Y_prediction_train,\n",
        "         \"w\" : w,\n",
        "         \"b\" : b,\n",
        "         \"learning_rate\" : learning_rate,\n",
        "         \"num_iterations\": num_iterations}\n",
        "\n",
        "    return d"
      ],
      "execution_count": null,
      "outputs": []
    },
    {
      "cell_type": "code",
      "source": [
        "logistic_regression_model = model(train_set_x, train_set_y, test_set_x, test_set_y, num_iterations=2000, learning_rate=0.005, print_cost=True)"
      ],
      "metadata": {
        "id": "Ww7t_S9uRkK-",
        "colab": {
          "base_uri": "https://localhost:8080/"
        },
        "outputId": "2045ee5b-ca18-4088-f86f-608d0f057c41"
      },
      "execution_count": null,
      "outputs": [
        {
          "output_type": "stream",
          "name": "stderr",
          "text": [
            "<ipython-input-20-f8fac2858c83>:4: RuntimeWarning: divide by zero encountered in log\n",
            "  cost = -1/m * (np.sum(Y* np.log(A) + (1-Y)*np.log(1-A)))\n",
            "<ipython-input-20-f8fac2858c83>:4: RuntimeWarning: invalid value encountered in multiply\n",
            "  cost = -1/m * (np.sum(Y* np.log(A) + (1-Y)*np.log(1-A)))\n"
          ]
        },
        {
          "output_type": "stream",
          "name": "stdout",
          "text": [
            "train accuracy: 91.38755980861244 %\n",
            "test accuracy: 76.0 %\n"
          ]
        }
      ]
    }
  ]
}