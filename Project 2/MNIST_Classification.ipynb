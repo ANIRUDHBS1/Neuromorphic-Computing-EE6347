{
  "nbformat": 4,
  "nbformat_minor": 0,
  "metadata": {
    "colab": {
      "provenance": []
    },
    "kernelspec": {
      "name": "python3",
      "display_name": "Python 3"
    }
  },
  "cells": [
    {
      "cell_type": "markdown",
      "metadata": {
        "id": "mA6fzwUoIGqv"
      },
      "source": [
        "#First we will import the MNIST dataset from Keras and assign the train and test datasets"
      ]
    },
    {
      "cell_type": "code",
      "metadata": {
        "id": "zN5AnJDziKEh"
      },
      "source": [
        "import tensorflow as tf\n",
        "(x_train,y_train), (x_test, y_test)= tf.keras.datasets.mnist.load_data()\n",
        "print(x_train.shape)\n",
        "print(y_train.shape)\n",
        "print(x_test.shape)\n",
        "print(y_test.shape)"
      ],
      "execution_count": null,
      "outputs": []
    },
    {
      "cell_type": "markdown",
      "metadata": {
        "id": "AHNeH6OrIgpH"
      },
      "source": [
        "#Next we will import the Sequential model, the Dense layer, the to_categorial utility and the SGD optimizer from Keras"
      ]
    },
    {
      "cell_type": "code",
      "metadata": {
        "id": "tMv-JXFvzthr"
      },
      "source": [],
      "execution_count": null,
      "outputs": []
    },
    {
      "cell_type": "code",
      "metadata": {
        "id": "OLlCDllhkdX7"
      },
      "source": [
        "\n",
        "\n"
      ],
      "execution_count": null,
      "outputs": []
    },
    {
      "cell_type": "markdown",
      "metadata": {
        "id": "f1e1caAxHd-h"
      },
      "source": [
        "## Next we will convert the 3-dimensional dataset into a 2-dimensional matrix by the reshape command"
      ]
    },
    {
      "cell_type": "code",
      "metadata": {
        "id": "e6_DF54apkC7"
      },
      "source": [],
      "execution_count": null,
      "outputs": []
    },
    {
      "cell_type": "markdown",
      "metadata": {
        "id": "LyNUae0MWbAA"
      },
      "source": [
        "#Next we will convert the values from unsigned integers to floats and normalize with the maximum value (255)"
      ]
    },
    {
      "cell_type": "code",
      "metadata": {
        "id": "eXCoHjEBqBk4"
      },
      "source": [
        "\n"
      ],
      "execution_count": null,
      "outputs": []
    },
    {
      "cell_type": "markdown",
      "metadata": {
        "id": "5DLuXllPw5Qz"
      },
      "source": []
    },
    {
      "cell_type": "markdown",
      "metadata": {
        "id": "Ane4jzAFXoRM"
      },
      "source": [
        "#The next step is to perform one-hot encoding on the categorial data"
      ]
    },
    {
      "cell_type": "code",
      "metadata": {
        "id": "HbSt568E6Txp"
      },
      "source": [],
      "execution_count": null,
      "outputs": []
    },
    {
      "cell_type": "markdown",
      "metadata": {
        "id": "FpflqDSkYJkJ"
      },
      "source": [
        "#Now we create the Sequential model and add the layers."
      ]
    },
    {
      "cell_type": "code",
      "metadata": {
        "id": "ZFtPYxiTEoCw"
      },
      "source": [
        "# Create the model\n",
        "from tensorflow.keras.layers import Dropout\n",
        "from tensorflow.keras.layers import BatchNormalization # BatchNormalization maintains the mean output around 0 and the output std. dev. close to 1\n",
        "\n",
        "model = Sequential()\n",
        "model.add(())\n",
        "\n",
        "\n",
        "model.add(())\n",
        "\n",
        "\n",
        "model.add(Dense(10, activation='softmax'))\n",
        "\n"
      ],
      "execution_count": null,
      "outputs": []
    },
    {
      "cell_type": "markdown",
      "metadata": {
        "id": "Jviepo7-Yxm8"
      },
      "source": [
        "#We finally define the number of epochs, create a learning rate schedule and compile the model\n",
        "\n",
        "Model is trained on the training dataset provided\n",
        "\n",
        "The model is evaluated against the validation to calculate the loss at the end of each epoch"
      ]
    },
    {
      "cell_type": "code",
      "metadata": {
        "id": "Y0O4p4BnHTxy"
      },
      "source": [
        "\n",
        "\n",
        "sgd =\n",
        "model.compile(optimizer= ,loss='categorical_crossentropy', metrics=['accuracy'])\n",
        "history3 = model.fit(x_train, y_train, batch_size=, epochs=, verbose=, validation_data=)\n"
      ],
      "execution_count": null,
      "outputs": []
    },
    {
      "cell_type": "code",
      "metadata": {
        "id": "v6IlHp5Mbe1-"
      },
      "source": [],
      "execution_count": null,
      "outputs": []
    },
    {
      "cell_type": "code",
      "metadata": {
        "id": "tTqpL9R5jwkb"
      },
      "source": [],
      "execution_count": null,
      "outputs": []
    }
  ]
}