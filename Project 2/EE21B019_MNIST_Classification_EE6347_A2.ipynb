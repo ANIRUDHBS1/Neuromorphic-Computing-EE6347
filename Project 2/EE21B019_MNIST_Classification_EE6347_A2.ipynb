{
  "nbformat": 4,
  "nbformat_minor": 0,
  "metadata": {
    "colab": {
      "provenance": []
    },
    "kernelspec": {
      "name": "python3",
      "display_name": "Python 3"
    }
  },
  "cells": [
    {
      "cell_type": "markdown",
      "source": [
        "<center>\n",
        "\n",
        "**EE6347 : Devices and Technologies for AI and Neuromorphic Computing**\n",
        "\n",
        "**Assignment 2 : MNIST Classification**\n",
        "\n",
        "Name : ANIRUDH B S ; Roll No. : EE21B019\n",
        "</center>"
      ],
      "metadata": {
        "id": "42VxjKt02LFn"
      }
    },
    {
      "cell_type": "markdown",
      "metadata": {
        "id": "mA6fzwUoIGqv"
      },
      "source": [
        "##In the below cell, we will import the MNIST dataset and obtain the train and test data sets."
      ]
    },
    {
      "cell_type": "code",
      "metadata": {
        "id": "zN5AnJDziKEh",
        "colab": {
          "base_uri": "https://localhost:8080/"
        },
        "outputId": "c79b9e14-da26-4c79-bb30-7bb430ad9dd4"
      },
      "source": [
        "import tensorflow as tf\n",
        "(x_train,y_train), (x_test, y_test)= tf.keras.datasets.mnist.load_data()\n",
        "print(x_train.shape)\n",
        "print(y_train.shape)\n",
        "print(x_test.shape)\n",
        "print(y_test.shape)"
      ],
      "execution_count": 1,
      "outputs": [
        {
          "output_type": "stream",
          "name": "stdout",
          "text": [
            "Downloading data from https://storage.googleapis.com/tensorflow/tf-keras-datasets/mnist.npz\n",
            "\u001b[1m11490434/11490434\u001b[0m \u001b[32m━━━━━━━━━━━━━━━━━━━━\u001b[0m\u001b[37m\u001b[0m \u001b[1m0s\u001b[0m 0us/step\n",
            "(60000, 28, 28)\n",
            "(60000,)\n",
            "(10000, 28, 28)\n",
            "(10000,)\n"
          ]
        }
      ]
    },
    {
      "cell_type": "markdown",
      "metadata": {
        "id": "AHNeH6OrIgpH"
      },
      "source": [
        "##Next we will import the Sequential model, the Dense layer, the to_categorial utility and the SGD optimizer from Keras.\n"
      ]
    },
    {
      "cell_type": "code",
      "metadata": {
        "id": "tMv-JXFvzthr"
      },
      "source": [
        "from tensorflow.keras.models import Sequential  # For building the model\n",
        "from tensorflow.keras.layers import Dense, BatchNormalization, Dropout  # For adding layers\n",
        "from tensorflow.keras.utils import to_categorical  # For one-hot encoding labels\n",
        "from tensorflow.keras.optimizers import SGD  # For optimizing the model"
      ],
      "execution_count": 2,
      "outputs": []
    },
    {
      "cell_type": "markdown",
      "metadata": {
        "id": "f1e1caAxHd-h"
      },
      "source": [
        "## Next we will convert the 3-dimensional dataset into a 2-dimensional matrix by the reshape command."
      ]
    },
    {
      "cell_type": "code",
      "metadata": {
        "id": "e6_DF54apkC7",
        "colab": {
          "base_uri": "https://localhost:8080/"
        },
        "outputId": "5c177dc7-de5b-4cdf-b3cf-0d02150f4fe9"
      },
      "source": [
        "# Reshape the training and testing data from 28x28 images to 784-dimensional vectors\n",
        "x_train = x_train.reshape(x_train.shape[0], 28 * 28)\n",
        "x_test = x_test.reshape(x_test.shape[0], 28 * 28)\n",
        "\n",
        "# Print the new shapes of the training and testing data\n",
        "print(x_train.shape)  # Should print (60000, 784) indicating 60,000 samples with 784 features each\n",
        "print(x_test.shape)   # Should print (10000, 784) indicating 10,000 samples with 784 features each"
      ],
      "execution_count": 3,
      "outputs": [
        {
          "output_type": "stream",
          "name": "stdout",
          "text": [
            "(60000, 784)\n",
            "(10000, 784)\n"
          ]
        }
      ]
    },
    {
      "cell_type": "markdown",
      "metadata": {
        "id": "LyNUae0MWbAA"
      },
      "source": [
        "##Next we will convert the values from unsigned integers to floats and normalize with the maximum value (255)."
      ]
    },
    {
      "cell_type": "code",
      "metadata": {
        "id": "eXCoHjEBqBk4"
      },
      "source": [
        "# Convert pixel values from integers to floats and normalize them to the range [0, 1]\n",
        "x_train = x_train.astype('float32') / 255\n",
        "x_test = x_test.astype('float32') / 255"
      ],
      "execution_count": 4,
      "outputs": []
    },
    {
      "cell_type": "markdown",
      "metadata": {
        "id": "Ane4jzAFXoRM"
      },
      "source": [
        "##The next step is to perform one-hot encoding on the categorial data."
      ]
    },
    {
      "cell_type": "code",
      "metadata": {
        "id": "HbSt568E6Txp"
      },
      "source": [
        "# Convert class vectors (integers) to one-hot encoded matrices with 10 classes\n",
        "y_train = to_categorical(y_train)\n",
        "y_test = to_categorical(y_test)"
      ],
      "execution_count": 5,
      "outputs": []
    },
    {
      "cell_type": "code",
      "source": [
        "y_train[10]"
      ],
      "metadata": {
        "colab": {
          "base_uri": "https://localhost:8080/"
        },
        "id": "WWNj0Rcuq7Yg",
        "outputId": "0260d3c9-9c3d-429d-ab88-85bbfdaadba5"
      },
      "execution_count": 6,
      "outputs": [
        {
          "output_type": "execute_result",
          "data": {
            "text/plain": [
              "array([0., 0., 0., 1., 0., 0., 0., 0., 0., 0.])"
            ]
          },
          "metadata": {},
          "execution_count": 6
        }
      ]
    },
    {
      "cell_type": "markdown",
      "metadata": {
        "id": "FpflqDSkYJkJ"
      },
      "source": [
        "#Now we create the Sequential model and add the layers."
      ]
    },
    {
      "cell_type": "code",
      "metadata": {
        "id": "ZFtPYxiTEoCw",
        "colab": {
          "base_uri": "https://localhost:8080/"
        },
        "outputId": "259b00e4-833d-48e1-d766-41aa0820f567"
      },
      "source": [
        "# Create the model\n",
        "from tensorflow.keras.layers import Dropout\n",
        "from tensorflow.keras.layers import BatchNormalization # BatchNormalization maintains the mean output around 0 and the output std. dev. close to 1\n",
        "\n",
        "model = Sequential()\n",
        "\n",
        "# First hidden layer with 100 ReLU neurons, followed by BatchNormalization and Dropout\n",
        "model.add(Dense(100, activation='relu', input_shape=(784,)))\n",
        "model.add(BatchNormalization())\n",
        "model.add(Dropout(0.2))\n",
        "\n",
        "# Second hidden layer with 50 tanh neurons, followed by BatchNormalization and Dropout\n",
        "model.add(Dense(50, activation='tanh'))\n",
        "model.add(BatchNormalization())\n",
        "model.add(Dropout(0.2))\n",
        "\n",
        "# Output layer with 10 neurons (one for each class) and softmax activation\n",
        "model.add(Dense(10, activation='softmax'))"
      ],
      "execution_count": 7,
      "outputs": [
        {
          "output_type": "stream",
          "name": "stderr",
          "text": [
            "/usr/local/lib/python3.10/dist-packages/keras/src/layers/core/dense.py:87: UserWarning: Do not pass an `input_shape`/`input_dim` argument to a layer. When using Sequential models, prefer using an `Input(shape)` object as the first layer in the model instead.\n",
            "  super().__init__(activity_regularizer=activity_regularizer, **kwargs)\n"
          ]
        }
      ]
    },
    {
      "cell_type": "markdown",
      "metadata": {
        "id": "Jviepo7-Yxm8"
      },
      "source": [
        "#We finally define the number of epochs, create a learning rate schedule and compile the model\n",
        "\n",
        "Model is trained on the training dataset provided\n",
        "\n",
        "The model is evaluated against the validation to calculate the loss at the end of each epoch"
      ]
    },
    {
      "cell_type": "code",
      "metadata": {
        "id": "Y0O4p4BnHTxy",
        "colab": {
          "base_uri": "https://localhost:8080/"
        },
        "outputId": "2dc602f8-1c50-472c-8812-cebf98c63082"
      },
      "source": [
        "# Initialize the SGD optimizer with a learning rate of 0.07 and without Nesterov acceleration\n",
        "sgd = SGD(learning_rate=0.07, nesterov=False)\n",
        "\n",
        "# Compile the model with the SGD optimizer, categorical crossentropy loss, and accuracy as the metric\n",
        "model.compile(optimizer=sgd, loss='categorical_crossentropy', metrics=['accuracy'])\n",
        "\n",
        "# Train the model on the training data, validate on the test data, with a batch size of 128 for 20 epochs\n",
        "history = model.fit(x_train, y_train, batch_size=4, epochs=20, verbose=1, validation_data=(x_test, y_test))"
      ],
      "execution_count": 8,
      "outputs": [
        {
          "output_type": "stream",
          "name": "stdout",
          "text": [
            "Epoch 1/20\n",
            "\u001b[1m15000/15000\u001b[0m \u001b[32m━━━━━━━━━━━━━━━━━━━━\u001b[0m\u001b[37m\u001b[0m \u001b[1m39s\u001b[0m 2ms/step - accuracy: 0.6765 - loss: 1.0185 - val_accuracy: 0.8924 - val_loss: 0.3683\n",
            "Epoch 2/20\n",
            "\u001b[1m15000/15000\u001b[0m \u001b[32m━━━━━━━━━━━━━━━━━━━━\u001b[0m\u001b[37m\u001b[0m \u001b[1m36s\u001b[0m 2ms/step - accuracy: 0.7353 - loss: 0.8583 - val_accuracy: 0.8898 - val_loss: 0.3706\n",
            "Epoch 3/20\n",
            "\u001b[1m15000/15000\u001b[0m \u001b[32m━━━━━━━━━━━━━━━━━━━━\u001b[0m\u001b[37m\u001b[0m \u001b[1m41s\u001b[0m 3ms/step - accuracy: 0.7416 - loss: 0.8484 - val_accuracy: 0.8897 - val_loss: 0.3632\n",
            "Epoch 4/20\n",
            "\u001b[1m15000/15000\u001b[0m \u001b[32m━━━━━━━━━━━━━━━━━━━━\u001b[0m\u001b[37m\u001b[0m \u001b[1m40s\u001b[0m 3ms/step - accuracy: 0.7372 - loss: 0.8613 - val_accuracy: 0.9000 - val_loss: 0.3349\n",
            "Epoch 5/20\n",
            "\u001b[1m15000/15000\u001b[0m \u001b[32m━━━━━━━━━━━━━━━━━━━━\u001b[0m\u001b[37m\u001b[0m \u001b[1m39s\u001b[0m 3ms/step - accuracy: 0.7438 - loss: 0.8421 - val_accuracy: 0.9030 - val_loss: 0.3376\n",
            "Epoch 6/20\n",
            "\u001b[1m15000/15000\u001b[0m \u001b[32m━━━━━━━━━━━━━━━━━━━━\u001b[0m\u001b[37m\u001b[0m \u001b[1m41s\u001b[0m 3ms/step - accuracy: 0.7384 - loss: 0.8571 - val_accuracy: 0.9055 - val_loss: 0.3197\n",
            "Epoch 7/20\n",
            "\u001b[1m15000/15000\u001b[0m \u001b[32m━━━━━━━━━━━━━━━━━━━━\u001b[0m\u001b[37m\u001b[0m \u001b[1m43s\u001b[0m 3ms/step - accuracy: 0.7490 - loss: 0.8231 - val_accuracy: 0.8966 - val_loss: 0.3437\n",
            "Epoch 8/20\n",
            "\u001b[1m15000/15000\u001b[0m \u001b[32m━━━━━━━━━━━━━━━━━━━━\u001b[0m\u001b[37m\u001b[0m \u001b[1m40s\u001b[0m 3ms/step - accuracy: 0.7451 - loss: 0.8359 - val_accuracy: 0.8967 - val_loss: 0.3437\n",
            "Epoch 9/20\n",
            "\u001b[1m15000/15000\u001b[0m \u001b[32m━━━━━━━━━━━━━━━━━━━━\u001b[0m\u001b[37m\u001b[0m \u001b[1m39s\u001b[0m 2ms/step - accuracy: 0.7428 - loss: 0.8417 - val_accuracy: 0.9010 - val_loss: 0.3374\n",
            "Epoch 10/20\n",
            "\u001b[1m15000/15000\u001b[0m \u001b[32m━━━━━━━━━━━━━━━━━━━━\u001b[0m\u001b[37m\u001b[0m \u001b[1m41s\u001b[0m 3ms/step - accuracy: 0.7408 - loss: 0.8504 - val_accuracy: 0.8966 - val_loss: 0.3607\n",
            "Epoch 11/20\n",
            "\u001b[1m15000/15000\u001b[0m \u001b[32m━━━━━━━━━━━━━━━━━━━━\u001b[0m\u001b[37m\u001b[0m \u001b[1m39s\u001b[0m 3ms/step - accuracy: 0.7292 - loss: 0.8734 - val_accuracy: 0.9046 - val_loss: 0.3214\n",
            "Epoch 12/20\n",
            "\u001b[1m15000/15000\u001b[0m \u001b[32m━━━━━━━━━━━━━━━━━━━━\u001b[0m\u001b[37m\u001b[0m \u001b[1m38s\u001b[0m 3ms/step - accuracy: 0.7417 - loss: 0.8499 - val_accuracy: 0.8853 - val_loss: 0.3871\n",
            "Epoch 13/20\n",
            "\u001b[1m15000/15000\u001b[0m \u001b[32m━━━━━━━━━━━━━━━━━━━━\u001b[0m\u001b[37m\u001b[0m \u001b[1m37s\u001b[0m 2ms/step - accuracy: 0.7404 - loss: 0.8492 - val_accuracy: 0.8913 - val_loss: 0.3640\n",
            "Epoch 14/20\n",
            "\u001b[1m15000/15000\u001b[0m \u001b[32m━━━━━━━━━━━━━━━━━━━━\u001b[0m\u001b[37m\u001b[0m \u001b[1m38s\u001b[0m 3ms/step - accuracy: 0.7297 - loss: 0.8789 - val_accuracy: 0.8943 - val_loss: 0.3584\n",
            "Epoch 15/20\n",
            "\u001b[1m15000/15000\u001b[0m \u001b[32m━━━━━━━━━━━━━━━━━━━━\u001b[0m\u001b[37m\u001b[0m \u001b[1m38s\u001b[0m 3ms/step - accuracy: 0.7443 - loss: 0.8422 - val_accuracy: 0.9039 - val_loss: 0.3391\n",
            "Epoch 16/20\n",
            "\u001b[1m15000/15000\u001b[0m \u001b[32m━━━━━━━━━━━━━━━━━━━━\u001b[0m\u001b[37m\u001b[0m \u001b[1m44s\u001b[0m 3ms/step - accuracy: 0.7381 - loss: 0.8497 - val_accuracy: 0.8962 - val_loss: 0.3499\n",
            "Epoch 17/20\n",
            "\u001b[1m15000/15000\u001b[0m \u001b[32m━━━━━━━━━━━━━━━━━━━━\u001b[0m\u001b[37m\u001b[0m \u001b[1m79s\u001b[0m 3ms/step - accuracy: 0.7408 - loss: 0.8437 - val_accuracy: 0.8953 - val_loss: 0.3600\n",
            "Epoch 18/20\n",
            "\u001b[1m15000/15000\u001b[0m \u001b[32m━━━━━━━━━━━━━━━━━━━━\u001b[0m\u001b[37m\u001b[0m \u001b[1m39s\u001b[0m 2ms/step - accuracy: 0.7492 - loss: 0.8197 - val_accuracy: 0.8911 - val_loss: 0.3601\n",
            "Epoch 19/20\n",
            "\u001b[1m15000/15000\u001b[0m \u001b[32m━━━━━━━━━━━━━━━━━━━━\u001b[0m\u001b[37m\u001b[0m \u001b[1m43s\u001b[0m 3ms/step - accuracy: 0.7437 - loss: 0.8388 - val_accuracy: 0.8921 - val_loss: 0.3698\n",
            "Epoch 20/20\n",
            "\u001b[1m15000/15000\u001b[0m \u001b[32m━━━━━━━━━━━━━━━━━━━━\u001b[0m\u001b[37m\u001b[0m \u001b[1m39s\u001b[0m 2ms/step - accuracy: 0.7479 - loss: 0.8215 - val_accuracy: 0.8977 - val_loss: 0.3431\n"
          ]
        }
      ]
    },
    {
      "cell_type": "code",
      "metadata": {
        "id": "v6IlHp5Mbe1-",
        "colab": {
          "base_uri": "https://localhost:8080/"
        },
        "outputId": "27fe3500-f06b-4c36-b9eb-faa9b2165e9e"
      },
      "source": [
        "import pandas as pd\n",
        "\n",
        "# Convert history.history dictionary to a pandas DataFrame\n",
        "history_df = pd.DataFrame(history.history)\n",
        "\n",
        "# Print the DataFrame containing the training and validation accuracy\n",
        "print(history_df[['accuracy', 'val_accuracy']])"
      ],
      "execution_count": 9,
      "outputs": [
        {
          "output_type": "stream",
          "name": "stdout",
          "text": [
            "    accuracy  val_accuracy\n",
            "0   0.715683        0.8924\n",
            "1   0.736467        0.8898\n",
            "2   0.740000        0.8897\n",
            "3   0.743467        0.9000\n",
            "4   0.736383        0.9030\n",
            "5   0.743433        0.9055\n",
            "6   0.747367        0.8966\n",
            "7   0.746300        0.8967\n",
            "8   0.743983        0.9010\n",
            "9   0.739567        0.8966\n",
            "10  0.737067        0.9046\n",
            "11  0.733183        0.8853\n",
            "12  0.736383        0.8913\n",
            "13  0.731200        0.8943\n",
            "14  0.744333        0.9039\n",
            "15  0.737383        0.8962\n",
            "16  0.744567        0.8953\n",
            "17  0.747667        0.8911\n",
            "18  0.742117        0.8921\n",
            "19  0.743967        0.8977\n"
          ]
        }
      ]
    },
    {
      "cell_type": "code",
      "metadata": {
        "id": "tTqpL9R5jwkb",
        "colab": {
          "base_uri": "https://localhost:8080/",
          "height": 449
        },
        "outputId": "a2f0d271-bdf0-40bd-aca6-8736f856f00f"
      },
      "source": [
        "import matplotlib.pyplot as plt  # Import the plotting library\n",
        "\n",
        "# Plot the training accuracy over epochs\n",
        "plt.plot(history.history['accuracy'], label='Training Accuracy')\n",
        "\n",
        "# Plot the validation accuracy over epochs\n",
        "plt.plot(history.history['val_accuracy'], label='Validation Accuracy')\n",
        "\n",
        "# Label the x-axis as 'Epochs'\n",
        "plt.xlabel('Epochs')\n",
        "\n",
        "# Label the y-axis as 'Accuracy'\n",
        "plt.ylabel('Accuracy')\n",
        "\n",
        "# Add a legend to the plot, positioned at the lower right corner\n",
        "plt.legend(loc='lower right')\n",
        "\n",
        "# Display the plot\n",
        "plt.show()"
      ],
      "execution_count": 10,
      "outputs": [
        {
          "output_type": "display_data",
          "data": {
            "text/plain": [
              "<Figure size 640x480 with 1 Axes>"
            ],
            "image/png": "[encoded data removed]"
          },
          "metadata": {}
        }
      ]
    },
    {
      "cell_type": "code",
      "source": [
        "import numpy as np\n",
        "import matplotlib.pyplot as plt\n",
        "\n",
        "# Predict the labels for the test set\n",
        "y_pred = model.predict(x_test)\n",
        "\n",
        "# Convert the predicted probabilities to class labels\n",
        "y_pred_classes = np.argmax(y_pred, axis=1)\n",
        "y_true = np.argmax(y_test, axis=1)\n",
        "\n",
        "# Calculate and print accuracy\n",
        "accuracy = np.mean(y_pred_classes == y_true)\n",
        "print(f\"Test Accuracy: {accuracy * 100:.2f}%\")\n",
        "\n",
        "# Find the indices of correct and incorrect predictions\n",
        "correct_indices = np.where(y_pred_classes == y_true)[0]\n",
        "incorrect_indices = np.where(y_pred_classes != y_true)[0]\n",
        "\n",
        "# Display 5 correct predictions\n",
        "plt.figure(figsize=(10, 5))\n",
        "for i, idx in enumerate(correct_indices[:5]):\n",
        "    plt.subplot(2, 5, i+1)\n",
        "    plt.imshow(x_test[idx].reshape(28, 28), cmap='gray')\n",
        "    plt.title(f\"True: {y_true[idx]}, Pred: {y_pred_classes[idx]}\")\n",
        "    plt.axis('off')\n",
        "\n",
        "# Display 5 incorrect predictions\n",
        "for i, idx in enumerate(incorrect_indices[:5]):\n",
        "    plt.subplot(2, 5, i+6)\n",
        "    plt.imshow(x_test[idx].reshape(28, 28), cmap='gray')\n",
        "    plt.title(f\"True: {y_true[idx]}, Pred: {y_pred_classes[idx]}\")\n",
        "    plt.axis('off')\n",
        "\n",
        "plt.tight_layout()\n",
        "plt.show()"
      ],
      "metadata": {
        "colab": {
          "base_uri": "https://localhost:8080/",
          "height": 508
        },
        "id": "F8JFGX2_Wx_O",
        "outputId": "52ac9f02-ce69-4df0-ec9f-57d834ec903e"
      },
      "execution_count": 11,
      "outputs": [
        {
          "output_type": "stream",
          "name": "stdout",
          "text": [
            "\u001b[1m313/313\u001b[0m \u001b[32m━━━━━━━━━━━━━━━━━━━━\u001b[0m\u001b[37m\u001b[0m \u001b[1m1s\u001b[0m 2ms/step\n",
            "Test Accuracy: 89.77%\n"
          ]
        },
        {
          "output_type": "display_data",
          "data": {
            "text/plain": [
              "<Figure size 1000x500 with 10 Axes>"
            ],
            "image/png": "[encoded data removed]"
          },
          "metadata": {}
        }
      ]
    }
  ]
}